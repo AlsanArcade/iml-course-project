{
 "cells": [
  {
   "cell_type": "code",
   "execution_count": 2,
   "id": "6b353ec2-07e9-493c-8d29-76a25b1b46ce",
   "metadata": {
    "tags": []
   },
   "outputs": [],
   "source": [
    "import deepdish\n",
    "import glob\n",
    "import h5py\n",
    "import lightning as L\n",
    "from lightning.pytorch.loggers import CSVLogger, TensorBoardLogger\n",
    "from lightning.pytorch.callbacks import ModelCheckpoint, EarlyStopping, TQDMProgressBar\n",
    "import matplotlib.pyplot as plt\n",
    "import numpy as np\n",
    "import os\n",
    "import pandas as pd\n",
    "import segmentation_models_pytorch as smp\n",
    "import torchvision.transforms as T\n",
    "import torch\n",
    "import torch.nn as nn\n",
    "from torch.optim.lr_scheduler import CosineAnnealingLR, ReduceLROnPlateau\n",
    "from torch.optim import AdamW\n",
    "from torchmetrics.functional import dice\n",
    "from torch.utils.data import Dataset, DataLoader\n",
    "import warnings\n",
    "import yaml\n",
    "# from pprint import pprint\n",
    "\n",
    "warnings.filterwarnings(\"ignore\")\n",
    "\n"
   ]
  },
  {
   "cell_type": "code",
   "execution_count": 9,
   "id": "8de38daf-40c2-47e1-90cd-56d535a695a1",
   "metadata": {
    "editable": true,
    "slideshow": {
     "slide_type": ""
    },
    "tags": []
   },
   "outputs": [],
   "source": [
    "data_path_mf_contrail_only_train = \"/home/albert/ml/Contrails/data/contrail dataset from hungrylearner/train/\"\n",
    "data_path_mf_all_valid = \"/home/albert/ml/Contrails/data/validation contrail/\""
   ]
  },
  {
   "cell_type": "code",
   "execution_count": 10,
   "id": "4feb6037-b5e9-4cdf-8bc5-cfdb98c53e59",
   "metadata": {
    "tags": []
   },
   "outputs": [],
   "source": [
    "# import sys\n",
    "# sys.path.append(\"../input/pretrained-models-pytorch\")\n",
    "# sys.path.append(\"../input/efficientnet-pytorch\")\n",
    "# sys.path.append(\"/kaggle/input/smp-github/segmentation_models.pytorch-master\")\n",
    "# sys.path.append(\"/kaggle/input/timm-pretrained-resnest/resnest/\")"
   ]
  },
  {
   "cell_type": "markdown",
   "id": "0192718b-b8fb-4525-adc9-16351e58080c",
   "metadata": {},
   "source": [
    "### Create and save config"
   ]
  },
  {
   "cell_type": "code",
   "execution_count": 11,
   "id": "1ab51c99-ea3d-4300-bd37-0485b6b3995d",
   "metadata": {
    "tags": []
   },
   "outputs": [
    {
     "name": "stdout",
     "output_type": "stream",
     "text": [
      "mkdir: cannot create directory ‘./pretrained_timesteps_resnest101_contrail_only_ashcolour’: File exists\n"
     ]
    }
   ],
   "source": [
    "!mkdir ./pretrained_timesteps_resnest101_contrail_only_ashcolour"
   ]
  },
  {
   "cell_type": "code",
   "execution_count": 26,
   "id": "1301e1da-2b55-43f5-b57b-ced418053bd5",
   "metadata": {
    "tags": []
   },
   "outputs": [
    {
     "name": "stdout",
     "output_type": "stream",
     "text": [
      "Overwriting config_resnest101_Unet.yaml\n"
     ]
    }
   ],
   "source": [
    "%%writefile config_resnest101_Unet.yaml\n",
    "\n",
    "output_dir: \"./pretrained_timesteps_resnest101_contrail_only_ashcolour\"\n",
    "\n",
    "seed: 42\n",
    "\n",
    "train_bs: 48\n",
    "valid_bs: 128\n",
    "workers: 6\n",
    "\n",
    "progress_bar_refresh_rate: 1\n",
    "\n",
    "early_stop:\n",
    "    monitor: \"val_loss\"\n",
    "    mode: \"min\"\n",
    "    patience: 5\n",
    "    verbose: 1\n",
    "\n",
    "trainer:\n",
    "    max_epochs: 13\n",
    "    min_epochs: 10\n",
    "    enable_progress_bar: True\n",
    "    precision: \"16-mixed\"\n",
    "    devices: 1\n",
    "\n",
    "model:\n",
    "    seg_model: \"Unet\"\n",
    "    encoder_name: \"timm-resnest101e\"\n",
    "    loss_smooth: 1.0\n",
    "    image_size: 384\n",
    "    optimizer_params:\n",
    "        lr: 0.0005\n",
    "        weight_decay: 0.0\n",
    "    scheduler:\n",
    "        name: \"CosineAnnealingLR\"\n",
    "        params:\n",
    "            CosineAnnealingLR:\n",
    "                T_max: 2\n",
    "                eta_min: 1.0e-6\n",
    "                last_epoch: -1\n",
    "            ReduceLROnPlateau:\n",
    "                mode: \"min\"\n",
    "                factor: 0.31622776601\n",
    "                patience: 4\n",
    "                verbose: True"
   ]
  },
  {
   "cell_type": "code",
   "execution_count": 27,
   "id": "47404388-6eeb-4430-9b6c-6f4654da7408",
   "metadata": {
    "tags": []
   },
   "outputs": [],
   "source": [
    "with open(\"config_resnest101_Unet.yaml\", \"r\") as file_obj:\n",
    "    config_resnest101_Unet = yaml.safe_load(file_obj)"
   ]
  },
  {
   "cell_type": "markdown",
   "id": "389217bc-a879-4094-b6fd-3243fc0145ef",
   "metadata": {
    "tags": []
   },
   "source": [
    "### Fynns dataset edited for HDF5 Train data"
   ]
  },
  {
   "cell_type": "code",
   "execution_count": 14,
   "id": "b714e70f-9a7a-44f4-85d2-ad14a4b8797b",
   "metadata": {
    "tags": []
   },
   "outputs": [],
   "source": [
    "class ContrailsDatasetMixed(Dataset):\n",
    "    def __init__(self, split=\"train\", mode=\"single\", delta_t = 0):\n",
    "        self.delta_t = delta_t\n",
    "        self.split = split\n",
    "        self.mode = mode\n",
    "        self.path = (lambda x: data_path_mf_contrail_only_train if x == \"train\" else data_path_mf_all_valid)(self.split)\n",
    "        self.examples = os.listdir(self.path)\n",
    "        self.normalize_image = T.Normalize((0.485, 0.456, 0.406), (0.229, 0.224, 0.225))\n",
    "    \n",
    "    def read_record(self, directory):\n",
    "        record_data = {}\n",
    "        for x in [\n",
    "            \"band_11\", \n",
    "            \"band_14\", \n",
    "            \"band_15\"\n",
    "        ]:\n",
    "            record_data[x] = np.load(os.path.join(directory, x + \".npy\"))\n",
    "\n",
    "        return record_data\n",
    "\n",
    "    def normalize_range(self, data, bounds):\n",
    "        \"\"\"Maps data to the range [0, 1].\"\"\"\n",
    "        return (data - bounds[0]) / (bounds[1] - bounds[0])\n",
    "    \n",
    "    def get_false_color(self, record_data):\n",
    "        _T11_BOUNDS = (243, 303)\n",
    "        _CLOUD_TOP_TDIFF_BOUNDS = (-4, 5)\n",
    "        _TDIFF_BOUNDS = (-4, 2)\n",
    "        if self.split == \"train\":\n",
    "            r = self.normalize_range(record_data[7] - record_data[6], _TDIFF_BOUNDS)\n",
    "            g = self.normalize_range(record_data[6] - record_data[3], _CLOUD_TOP_TDIFF_BOUNDS)\n",
    "            b = self.normalize_range(record_data[6], _T11_BOUNDS)\n",
    "        else:\n",
    "            r = self.normalize_range(record_data[\"band_15\"] - record_data[\"band_14\"], _TDIFF_BOUNDS)\n",
    "            g = self.normalize_range(record_data[\"band_14\"] - record_data[\"band_11\"], _CLOUD_TOP_TDIFF_BOUNDS)\n",
    "            b = self.normalize_range(record_data[\"band_14\"], _T11_BOUNDS)\n",
    "        false_color = np.clip(np.stack([r, g, b], axis=2), 0, 1)\n",
    "        if self.mode == \"single\":\n",
    "            t_null = 4\n",
    "            return false_color[..., t_null+self.delta_t]\n",
    "        else:\n",
    "            return false_color\n",
    "    \n",
    "    def __getitem__(self, index):\n",
    "        if self.split == \"train\":\n",
    "            sample_path = f\"{self.path}{self.examples[index]}\"\n",
    "            data = deepdish.io.load(sample_path)  # dict (bands, masks)\n",
    "            img = self.get_false_color(data[\"bands\"]) \n",
    "            label = data[\"masks\"][..., -1] \n",
    "            label = torch.Tensor(label).to(torch.int64)\n",
    "            \n",
    "        if self.split == \"validation\":\n",
    "            path = f\"{self.path}{self.examples[index]}\"\n",
    "            data = self.read_record(path)    \n",
    "            img = self.get_false_color(data)\n",
    "            label = np.load(os.path.join(path, \"human_pixel_masks.npy\")).squeeze()\n",
    "            label = torch.Tensor(label).to(torch.int64)\n",
    "\n",
    "        if self.mode == \"single\":\n",
    "            img = torch.tensor(np.reshape(img, (256, 256, 3, -1))).to(torch.float32).permute(3, 2, 0, 1).squeeze()\n",
    "        else:\n",
    "            img = torch.tensor(np.reshape(img, (256, 256, 3, -1))).to(torch.float32).permute(3, 2, 0, 1)\n",
    "\n",
    "        img = self.normalize_image(img)\n",
    "\n",
    "        if self.split in [\"train\", \"validation\"]:\n",
    "            return img.float(), label.float()\n",
    "\n",
    "        return img.float()\n",
    "    \n",
    "    def __len__(self):\n",
    "        return len(self.examples)"
   ]
  },
  {
   "cell_type": "markdown",
   "id": "8d8c5c34-c62c-4ef2-a178-716155ff19ad",
   "metadata": {},
   "source": [
    "### Lightning Module"
   ]
  },
  {
   "cell_type": "code",
   "execution_count": 15,
   "id": "1f3a3244-bd32-4672-beb6-1db12739bfd8",
   "metadata": {
    "tags": []
   },
   "outputs": [],
   "source": [
    "\n",
    "\n",
    "seg_models = {\n",
    "    \"Unet\": smp.Unet,\n",
    "    \"Unet++\": smp.UnetPlusPlus,\n",
    "    \"MAnet\": smp.MAnet,\n",
    "    \"Linknet\": smp.Linknet,\n",
    "    \"FPN\": smp.FPN,\n",
    "    \"PSPNet\": smp.PSPNet,\n",
    "    \"PAN\": smp.PAN,\n",
    "    \"DeepLabV3\": smp.DeepLabV3,\n",
    "    \"DeepLabV3+\": smp.DeepLabV3Plus,\n",
    "}\n",
    "\n",
    "\n",
    "class LightningModule(L.LightningModule):\n",
    "    def __init__(self, config):\n",
    "        super().__init__()\n",
    "        self.config = config\n",
    "        self.model = model = seg_models[config[\"seg_model\"]](\n",
    "            encoder_name=config[\"encoder_name\"],\n",
    "            encoder_weights=\"imagenet\",\n",
    "            in_channels=3,\n",
    "            classes=1,\n",
    "            activation=None,\n",
    "        )\n",
    "        self.loss_module = smp.losses.DiceLoss(mode=\"binary\", smooth=config[\"loss_smooth\"])\n",
    "        self.val_step_outputs = []\n",
    "        self.val_step_labels = []\n",
    "\n",
    "    def forward(self, batch):\n",
    "        imgs = batch\n",
    "        preds = self.model(imgs)\n",
    "        return preds\n",
    "\n",
    "    def configure_optimizers(self):\n",
    "        optimizer = AdamW(self.parameters(), **self.config[\"optimizer_params\"])\n",
    "\n",
    "        if self.config[\"scheduler\"][\"name\"] == \"CosineAnnealingLR\":\n",
    "            scheduler = CosineAnnealingLR(\n",
    "                optimizer,\n",
    "                **self.config[\"scheduler\"][\"params\"][\"CosineAnnealingLR\"],\n",
    "            )\n",
    "            lr_scheduler_dict = {\"scheduler\": scheduler, \"interval\": \"step\"}\n",
    "            return {\"optimizer\": optimizer, \"lr_scheduler\": lr_scheduler_dict}\n",
    "        elif self.config[\"scheduler\"][\"name\"] == \"ReduceLROnPlateau\":\n",
    "            scheduler = ReduceLROnPlateau(\n",
    "                optimizer,\n",
    "                **self.config[\"scheduler\"][\"params\"][\"ReduceLROnPlateau\"],\n",
    "            )\n",
    "            lr_scheduler = {\"scheduler\": scheduler, \"monitor\": \"val_loss\"}\n",
    "            return {\"optimizer\": optimizer, \"lr_scheduler\": lr_scheduler}\n",
    "\n",
    "    def training_step(self, batch, batch_idx):\n",
    "        imgs, labels = batch\n",
    "        preds = self.model(imgs)\n",
    "        if self.config[\"image_size\"] != 256:\n",
    "            preds = torch.nn.functional.interpolate(preds, size=256, mode='bilinear')\n",
    "        loss = self.loss_module(preds, labels)\n",
    "        self.log(\"train_loss\", loss, on_step=True, on_epoch=True, prog_bar=True, batch_size=16)\n",
    "\n",
    "        for param_group in self.trainer.optimizers[0].param_groups:\n",
    "            lr = param_group[\"lr\"]\n",
    "        self.log(\"lr\", lr, on_step=True, on_epoch=False, prog_bar=True)\n",
    "\n",
    "        return loss\n",
    "\n",
    "    def validation_step(self, batch, batch_idx):\n",
    "        imgs, labels = batch\n",
    "        preds = self.model(imgs)\n",
    "        if self.config[\"image_size\"] != 256:\n",
    "            preds = torch.nn.functional.interpolate(preds, size=256, mode='bilinear')\n",
    "        loss = self.loss_module(preds, labels)\n",
    "        self.log(\"val_loss\", loss, on_step=False, on_epoch=True, prog_bar=True)\n",
    "        self.val_step_outputs.append(preds)\n",
    "        self.val_step_labels.append(labels)\n",
    "\n",
    "    def on_validation_epoch_end(self):\n",
    "        all_preds = torch.cat(self.val_step_outputs)\n",
    "        all_labels = torch.cat(self.val_step_labels)\n",
    "        all_preds = torch.sigmoid(all_preds)\n",
    "        self.val_step_outputs.clear()\n",
    "        self.val_step_labels.clear()\n",
    "        val_dice = dice(all_preds, all_labels.long())\n",
    "        self.log(\"val_dice\", val_dice, on_step=False, on_epoch=True, prog_bar=True)\n",
    "        if self.trainer.global_rank == 0:\n",
    "            print(f\"\\nEpoch: {self.current_epoch}\", flush=True)"
   ]
  },
  {
   "cell_type": "markdown",
   "id": "3d01a7fb-3c45-4802-a2e2-5d2351397ab6",
   "metadata": {},
   "source": [
    "#### Pretraining the timesteps\n"
   ]
  },
  {
   "cell_type": "code",
   "execution_count": 18,
   "id": "220edd68-0707-46c4-9900-3519239990ee",
   "metadata": {
    "tags": []
   },
   "outputs": [],
   "source": [
    "def pretrain_model_at_timestep_t_mask_plus_delta(delta):\n",
    "    identifier = \"model_at_timestep_mask_plus_delta_\"+str(delta)\n",
    "    \n",
    "    dataset_train = ContrailsDatasetMixed(\"train\", \"single\",delta)\n",
    "    dataset_validation = ContrailsDatasetMixed(\"validation\",\"single\", delta)\n",
    "    \n",
    "    data_loader_train = DataLoader(\n",
    "    dataset_train,\n",
    "    batch_size=config_resnest101_Unet[\"train_bs\"],\n",
    "    shuffle=True,\n",
    "    num_workers=config_resnest101_Unet[\"workers\"],\n",
    "    )\n",
    "    \n",
    "    data_loader_validation = DataLoader(\n",
    "        dataset_validation,\n",
    "        batch_size=config_resnest101_Unet[\"valid_bs\"],\n",
    "        shuffle=False,\n",
    "        num_workers=config_resnest101_Unet[\"workers\"],\n",
    "    )\n",
    "    \n",
    "    checkpoint_callback = ModelCheckpoint(\n",
    "    save_weights_only=True,\n",
    "    monitor=\"val_dice\",\n",
    "    dirpath=config_resnest101_Unet[\"output_dir\"],\n",
    "    mode=\"max\",\n",
    "    filename= identifier,\n",
    "    save_top_k=1,\n",
    "    verbose=1,\n",
    "    )\n",
    "    progress_bar_callback = TQDMProgressBar(\n",
    "    refresh_rate=config_resnest101_Unet[\"progress_bar_refresh_rate\"]\n",
    "    )\n",
    "\n",
    "    early_stop_callback = EarlyStopping(**config_resnest101_Unet[\"early_stop\"])\n",
    "    csv_logger = CSVLogger(config_resnest101_Unet[\"output_dir\"], name=identifier)\n",
    "    trainer = L.Trainer(\n",
    "        callbacks=[checkpoint_callback, early_stop_callback, progress_bar_callback], logger = csv_logger,\n",
    "        **config_resnest101_Unet[\"trainer\"],\n",
    "    )\n",
    "    \n",
    "    config_resnest101_Unet[\"model\"][\"scheduler\"][\"params\"][\"CosineAnnealingLR\"][\"T_max\"] *= len(data_loader_train)/config_resnest101_Unet[\"trainer\"][\"devices\"]\n",
    "    model = LightningModule(config_resnest101_Unet[\"model\"])\n",
    "\n",
    "    trainer.fit(model, data_loader_train, data_loader_validation)\n",
    "    \n",
    "    "
   ]
  },
  {
   "cell_type": "markdown",
   "id": "170ae231-627f-47bf-864a-ac122f996951",
   "metadata": {},
   "source": [
    "### Training the timesteps"
   ]
  },
  {
   "cell_type": "code",
   "execution_count": 19,
   "id": "98a64326-a6a6-4028-b3a4-5588721b7fdd",
   "metadata": {
    "collapsed": true,
    "jupyter": {
     "outputs_hidden": true
    },
    "tags": []
   },
   "outputs": [
    {
     "name": "stderr",
     "output_type": "stream",
     "text": [
      "Using 16bit Automatic Mixed Precision (AMP)\n",
      "GPU available: True (cuda), used: True\n",
      "TPU available: False, using: 0 TPU cores\n",
      "IPU available: False, using: 0 IPUs\n",
      "HPU available: False, using: 0 HPUs\n",
      "You are using a CUDA device ('NVIDIA GeForce RTX 3090') that has Tensor Cores. To properly utilize them, you should set `torch.set_float32_matmul_precision('medium' | 'high')` which will trade-off precision for performance. For more details, read https://pytorch.org/docs/stable/generated/torch.set_float32_matmul_precision.html#torch.set_float32_matmul_precision\n",
      "LOCAL_RANK: 0 - CUDA_VISIBLE_DEVICES: [0]\n",
      "\n",
      "  | Name        | Type     | Params\n",
      "-----------------------------------------\n",
      "0 | model       | Unet     | 55.3 M\n",
      "1 | loss_module | DiceLoss | 0     \n",
      "-----------------------------------------\n",
      "55.3 M    Trainable params\n",
      "0         Non-trainable params\n",
      "55.3 M    Total params\n",
      "221.030   Total estimated model params size (MB)\n"
     ]
    },
    {
     "data": {
      "application/vnd.jupyter.widget-view+json": {
       "model_id": "",
       "version_major": 2,
       "version_minor": 0
      },
      "text/plain": [
       "Sanity Checking: 0it [00:00, ?it/s]"
      ]
     },
     "metadata": {},
     "output_type": "display_data"
    },
    {
     "name": "stdout",
     "output_type": "stream",
     "text": [
      "\n",
      "Epoch: 0\n"
     ]
    },
    {
     "data": {
      "application/vnd.jupyter.widget-view+json": {
       "model_id": "653117cac4b044698c61cd3e66d96441",
       "version_major": 2,
       "version_minor": 0
      },
      "text/plain": [
       "Training: 0it [00:00, ?it/s]"
      ]
     },
     "metadata": {},
     "output_type": "display_data"
    },
    {
     "data": {
      "application/vnd.jupyter.widget-view+json": {
       "model_id": "",
       "version_major": 2,
       "version_minor": 0
      },
      "text/plain": [
       "Validation: 0it [00:00, ?it/s]"
      ]
     },
     "metadata": {},
     "output_type": "display_data"
    },
    {
     "name": "stdout",
     "output_type": "stream",
     "text": [
      "\n",
      "Epoch: 0\n"
     ]
    },
    {
     "name": "stderr",
     "output_type": "stream",
     "text": [
      "Metric val_loss improved. New best score: 0.852\n",
      "Epoch 0, global step 193: 'val_dice' reached 0.22666 (best 0.22666), saving model to '/home/albert/ml/Contrails/notebooks/working_with_hdf_dataset/train_single_on_other_timesteps/pretrained_timesteps_resnest101_contrail_only_ashcolour/model_at_timestep_mask_plus_delta_-1.ckpt' as top 1\n"
     ]
    },
    {
     "data": {
      "application/vnd.jupyter.widget-view+json": {
       "model_id": "",
       "version_major": 2,
       "version_minor": 0
      },
      "text/plain": [
       "Validation: 0it [00:00, ?it/s]"
      ]
     },
     "metadata": {},
     "output_type": "display_data"
    },
    {
     "name": "stdout",
     "output_type": "stream",
     "text": [
      "\n",
      "Epoch: 1\n"
     ]
    },
    {
     "name": "stderr",
     "output_type": "stream",
     "text": [
      "Metric val_loss improved by 0.058 >= min_delta = 0.0. New best score: 0.793\n",
      "Epoch 1, global step 386: 'val_dice' reached 0.26484 (best 0.26484), saving model to '/home/albert/ml/Contrails/notebooks/working_with_hdf_dataset/train_single_on_other_timesteps/pretrained_timesteps_resnest101_contrail_only_ashcolour/model_at_timestep_mask_plus_delta_-1.ckpt' as top 1\n"
     ]
    },
    {
     "data": {
      "application/vnd.jupyter.widget-view+json": {
       "model_id": "",
       "version_major": 2,
       "version_minor": 0
      },
      "text/plain": [
       "Validation: 0it [00:00, ?it/s]"
      ]
     },
     "metadata": {},
     "output_type": "display_data"
    },
    {
     "name": "stdout",
     "output_type": "stream",
     "text": [
      "\n",
      "Epoch: 2\n"
     ]
    },
    {
     "name": "stderr",
     "output_type": "stream",
     "text": [
      "Epoch 2, global step 579: 'val_dice' was not in top 1\n"
     ]
    },
    {
     "data": {
      "application/vnd.jupyter.widget-view+json": {
       "model_id": "",
       "version_major": 2,
       "version_minor": 0
      },
      "text/plain": [
       "Validation: 0it [00:00, ?it/s]"
      ]
     },
     "metadata": {},
     "output_type": "display_data"
    },
    {
     "name": "stdout",
     "output_type": "stream",
     "text": [
      "\n",
      "Epoch: 3\n"
     ]
    },
    {
     "name": "stderr",
     "output_type": "stream",
     "text": [
      "Metric val_loss improved by 0.022 >= min_delta = 0.0. New best score: 0.771\n",
      "Epoch 3, global step 772: 'val_dice' was not in top 1\n"
     ]
    },
    {
     "data": {
      "application/vnd.jupyter.widget-view+json": {
       "model_id": "",
       "version_major": 2,
       "version_minor": 0
      },
      "text/plain": [
       "Validation: 0it [00:00, ?it/s]"
      ]
     },
     "metadata": {},
     "output_type": "display_data"
    },
    {
     "name": "stdout",
     "output_type": "stream",
     "text": [
      "\n",
      "Epoch: 4\n"
     ]
    },
    {
     "name": "stderr",
     "output_type": "stream",
     "text": [
      "Metric val_loss improved by 0.008 >= min_delta = 0.0. New best score: 0.763\n",
      "Epoch 4, global step 965: 'val_dice' was not in top 1\n"
     ]
    },
    {
     "data": {
      "application/vnd.jupyter.widget-view+json": {
       "model_id": "",
       "version_major": 2,
       "version_minor": 0
      },
      "text/plain": [
       "Validation: 0it [00:00, ?it/s]"
      ]
     },
     "metadata": {},
     "output_type": "display_data"
    },
    {
     "name": "stdout",
     "output_type": "stream",
     "text": [
      "\n",
      "Epoch: 5\n"
     ]
    },
    {
     "name": "stderr",
     "output_type": "stream",
     "text": [
      "Metric val_loss improved by 0.013 >= min_delta = 0.0. New best score: 0.750\n",
      "Epoch 5, global step 1158: 'val_dice' reached 0.26706 (best 0.26706), saving model to '/home/albert/ml/Contrails/notebooks/working_with_hdf_dataset/train_single_on_other_timesteps/pretrained_timesteps_resnest101_contrail_only_ashcolour/model_at_timestep_mask_plus_delta_-1.ckpt' as top 1\n"
     ]
    },
    {
     "data": {
      "application/vnd.jupyter.widget-view+json": {
       "model_id": "",
       "version_major": 2,
       "version_minor": 0
      },
      "text/plain": [
       "Validation: 0it [00:00, ?it/s]"
      ]
     },
     "metadata": {},
     "output_type": "display_data"
    },
    {
     "name": "stdout",
     "output_type": "stream",
     "text": [
      "\n",
      "Epoch: 6\n"
     ]
    },
    {
     "name": "stderr",
     "output_type": "stream",
     "text": [
      "Epoch 6, global step 1351: 'val_dice' was not in top 1\n"
     ]
    },
    {
     "data": {
      "application/vnd.jupyter.widget-view+json": {
       "model_id": "",
       "version_major": 2,
       "version_minor": 0
      },
      "text/plain": [
       "Validation: 0it [00:00, ?it/s]"
      ]
     },
     "metadata": {},
     "output_type": "display_data"
    },
    {
     "name": "stdout",
     "output_type": "stream",
     "text": [
      "\n",
      "Epoch: 7\n"
     ]
    },
    {
     "name": "stderr",
     "output_type": "stream",
     "text": [
      "Epoch 7, global step 1544: 'val_dice' was not in top 1\n"
     ]
    },
    {
     "data": {
      "application/vnd.jupyter.widget-view+json": {
       "model_id": "",
       "version_major": 2,
       "version_minor": 0
      },
      "text/plain": [
       "Validation: 0it [00:00, ?it/s]"
      ]
     },
     "metadata": {},
     "output_type": "display_data"
    },
    {
     "name": "stdout",
     "output_type": "stream",
     "text": [
      "\n",
      "Epoch: 8\n"
     ]
    },
    {
     "name": "stderr",
     "output_type": "stream",
     "text": [
      "Epoch 8, global step 1737: 'val_dice' was not in top 1\n"
     ]
    },
    {
     "data": {
      "application/vnd.jupyter.widget-view+json": {
       "model_id": "",
       "version_major": 2,
       "version_minor": 0
      },
      "text/plain": [
       "Validation: 0it [00:00, ?it/s]"
      ]
     },
     "metadata": {},
     "output_type": "display_data"
    },
    {
     "name": "stdout",
     "output_type": "stream",
     "text": [
      "\n",
      "Epoch: 9\n"
     ]
    },
    {
     "name": "stderr",
     "output_type": "stream",
     "text": [
      "Metric val_loss improved by 0.003 >= min_delta = 0.0. New best score: 0.747\n",
      "Epoch 9, global step 1930: 'val_dice' was not in top 1\n"
     ]
    },
    {
     "data": {
      "application/vnd.jupyter.widget-view+json": {
       "model_id": "",
       "version_major": 2,
       "version_minor": 0
      },
      "text/plain": [
       "Validation: 0it [00:00, ?it/s]"
      ]
     },
     "metadata": {},
     "output_type": "display_data"
    },
    {
     "name": "stdout",
     "output_type": "stream",
     "text": [
      "\n",
      "Epoch: 10\n"
     ]
    },
    {
     "name": "stderr",
     "output_type": "stream",
     "text": [
      "Epoch 10, global step 2123: 'val_dice' was not in top 1\n"
     ]
    },
    {
     "data": {
      "application/vnd.jupyter.widget-view+json": {
       "model_id": "",
       "version_major": 2,
       "version_minor": 0
      },
      "text/plain": [
       "Validation: 0it [00:00, ?it/s]"
      ]
     },
     "metadata": {},
     "output_type": "display_data"
    },
    {
     "name": "stdout",
     "output_type": "stream",
     "text": [
      "\n",
      "Epoch: 11\n"
     ]
    },
    {
     "name": "stderr",
     "output_type": "stream",
     "text": [
      "Monitored metric val_loss = nan is not finite. Previous best value was 0.747. Signaling Trainer to stop.\n",
      "Epoch 11, global step 2316: 'val_dice' reached 0.27493 (best 0.27493), saving model to '/home/albert/ml/Contrails/notebooks/working_with_hdf_dataset/train_single_on_other_timesteps/pretrained_timesteps_resnest101_contrail_only_ashcolour/model_at_timestep_mask_plus_delta_-1.ckpt' as top 1\n"
     ]
    }
   ],
   "source": [
    "pretrain_model_at_timestep_t_mask_plus_delta(-1)"
   ]
  },
  {
   "cell_type": "code",
   "execution_count": 28,
   "id": "d8b8bda0-55e7-4030-afe8-482a8d4b0347",
   "metadata": {
    "collapsed": true,
    "jupyter": {
     "outputs_hidden": true
    },
    "tags": []
   },
   "outputs": [
    {
     "name": "stderr",
     "output_type": "stream",
     "text": [
      "Using 16bit Automatic Mixed Precision (AMP)\n",
      "GPU available: True (cuda), used: True\n",
      "TPU available: False, using: 0 TPU cores\n",
      "IPU available: False, using: 0 IPUs\n",
      "HPU available: False, using: 0 HPUs\n",
      "LOCAL_RANK: 0 - CUDA_VISIBLE_DEVICES: [0]\n",
      "\n",
      "  | Name        | Type     | Params\n",
      "-----------------------------------------\n",
      "0 | model       | Unet     | 55.3 M\n",
      "1 | loss_module | DiceLoss | 0     \n",
      "-----------------------------------------\n",
      "55.3 M    Trainable params\n",
      "0         Non-trainable params\n",
      "55.3 M    Total params\n",
      "221.030   Total estimated model params size (MB)\n"
     ]
    },
    {
     "data": {
      "application/vnd.jupyter.widget-view+json": {
       "model_id": "",
       "version_major": 2,
       "version_minor": 0
      },
      "text/plain": [
       "Sanity Checking: 0it [00:00, ?it/s]"
      ]
     },
     "metadata": {},
     "output_type": "display_data"
    },
    {
     "name": "stdout",
     "output_type": "stream",
     "text": [
      "\n",
      "Epoch: 0\n"
     ]
    },
    {
     "data": {
      "application/vnd.jupyter.widget-view+json": {
       "model_id": "53af92ea8f3b40c087cf17b5248e4572",
       "version_major": 2,
       "version_minor": 0
      },
      "text/plain": [
       "Training: 0it [00:00, ?it/s]"
      ]
     },
     "metadata": {},
     "output_type": "display_data"
    },
    {
     "data": {
      "application/vnd.jupyter.widget-view+json": {
       "model_id": "",
       "version_major": 2,
       "version_minor": 0
      },
      "text/plain": [
       "Validation: 0it [00:00, ?it/s]"
      ]
     },
     "metadata": {},
     "output_type": "display_data"
    },
    {
     "name": "stdout",
     "output_type": "stream",
     "text": [
      "\n",
      "Epoch: 0\n"
     ]
    },
    {
     "name": "stderr",
     "output_type": "stream",
     "text": [
      "Metric val_loss improved. New best score: 0.656\n",
      "Epoch 0, global step 193: 'val_dice' reached 0.53990 (best 0.53990), saving model to '/home/albert/ml/Contrails/notebooks/working_with_hdf_dataset/train_single_on_other_timesteps/pretrained_timesteps_resnest101_contrail_only_ashcolour/model_at_timestep_mask_plus_delta_0-v2.ckpt' as top 1\n"
     ]
    },
    {
     "data": {
      "application/vnd.jupyter.widget-view+json": {
       "model_id": "",
       "version_major": 2,
       "version_minor": 0
      },
      "text/plain": [
       "Validation: 0it [00:00, ?it/s]"
      ]
     },
     "metadata": {},
     "output_type": "display_data"
    },
    {
     "name": "stdout",
     "output_type": "stream",
     "text": [
      "\n",
      "Epoch: 1\n"
     ]
    },
    {
     "name": "stderr",
     "output_type": "stream",
     "text": [
      "Metric val_loss improved by 0.128 >= min_delta = 0.0. New best score: 0.528\n",
      "Epoch 1, global step 386: 'val_dice' reached 0.57173 (best 0.57173), saving model to '/home/albert/ml/Contrails/notebooks/working_with_hdf_dataset/train_single_on_other_timesteps/pretrained_timesteps_resnest101_contrail_only_ashcolour/model_at_timestep_mask_plus_delta_0-v2.ckpt' as top 1\n"
     ]
    },
    {
     "data": {
      "application/vnd.jupyter.widget-view+json": {
       "model_id": "",
       "version_major": 2,
       "version_minor": 0
      },
      "text/plain": [
       "Validation: 0it [00:00, ?it/s]"
      ]
     },
     "metadata": {},
     "output_type": "display_data"
    },
    {
     "name": "stdout",
     "output_type": "stream",
     "text": [
      "\n",
      "Epoch: 2\n"
     ]
    },
    {
     "name": "stderr",
     "output_type": "stream",
     "text": [
      "Metric val_loss improved by 0.023 >= min_delta = 0.0. New best score: 0.505\n",
      "Epoch 2, global step 579: 'val_dice' was not in top 1\n"
     ]
    },
    {
     "data": {
      "application/vnd.jupyter.widget-view+json": {
       "model_id": "",
       "version_major": 2,
       "version_minor": 0
      },
      "text/plain": [
       "Validation: 0it [00:00, ?it/s]"
      ]
     },
     "metadata": {},
     "output_type": "display_data"
    },
    {
     "name": "stdout",
     "output_type": "stream",
     "text": [
      "\n",
      "Epoch: 3\n"
     ]
    },
    {
     "name": "stderr",
     "output_type": "stream",
     "text": [
      "Metric val_loss improved by 0.031 >= min_delta = 0.0. New best score: 0.474\n",
      "Epoch 3, global step 772: 'val_dice' was not in top 1\n"
     ]
    },
    {
     "data": {
      "application/vnd.jupyter.widget-view+json": {
       "model_id": "",
       "version_major": 2,
       "version_minor": 0
      },
      "text/plain": [
       "Validation: 0it [00:00, ?it/s]"
      ]
     },
     "metadata": {},
     "output_type": "display_data"
    },
    {
     "name": "stdout",
     "output_type": "stream",
     "text": [
      "\n",
      "Epoch: 4\n"
     ]
    },
    {
     "name": "stderr",
     "output_type": "stream",
     "text": [
      "Metric val_loss improved by 0.044 >= min_delta = 0.0. New best score: 0.429\n",
      "Epoch 4, global step 965: 'val_dice' reached 0.58828 (best 0.58828), saving model to '/home/albert/ml/Contrails/notebooks/working_with_hdf_dataset/train_single_on_other_timesteps/pretrained_timesteps_resnest101_contrail_only_ashcolour/model_at_timestep_mask_plus_delta_0-v2.ckpt' as top 1\n"
     ]
    },
    {
     "data": {
      "application/vnd.jupyter.widget-view+json": {
       "model_id": "",
       "version_major": 2,
       "version_minor": 0
      },
      "text/plain": [
       "Validation: 0it [00:00, ?it/s]"
      ]
     },
     "metadata": {},
     "output_type": "display_data"
    },
    {
     "name": "stdout",
     "output_type": "stream",
     "text": [
      "\n",
      "Epoch: 5\n"
     ]
    },
    {
     "name": "stderr",
     "output_type": "stream",
     "text": [
      "Metric val_loss improved by 0.015 >= min_delta = 0.0. New best score: 0.414\n",
      "Epoch 5, global step 1158: 'val_dice' reached 0.60224 (best 0.60224), saving model to '/home/albert/ml/Contrails/notebooks/working_with_hdf_dataset/train_single_on_other_timesteps/pretrained_timesteps_resnest101_contrail_only_ashcolour/model_at_timestep_mask_plus_delta_0-v2.ckpt' as top 1\n"
     ]
    },
    {
     "data": {
      "application/vnd.jupyter.widget-view+json": {
       "model_id": "",
       "version_major": 2,
       "version_minor": 0
      },
      "text/plain": [
       "Validation: 0it [00:00, ?it/s]"
      ]
     },
     "metadata": {},
     "output_type": "display_data"
    },
    {
     "name": "stdout",
     "output_type": "stream",
     "text": [
      "\n",
      "Epoch: 6\n"
     ]
    },
    {
     "name": "stderr",
     "output_type": "stream",
     "text": [
      "Epoch 6, global step 1351: 'val_dice' was not in top 1\n"
     ]
    },
    {
     "data": {
      "application/vnd.jupyter.widget-view+json": {
       "model_id": "",
       "version_major": 2,
       "version_minor": 0
      },
      "text/plain": [
       "Validation: 0it [00:00, ?it/s]"
      ]
     },
     "metadata": {},
     "output_type": "display_data"
    },
    {
     "name": "stdout",
     "output_type": "stream",
     "text": [
      "\n",
      "Epoch: 7\n"
     ]
    },
    {
     "name": "stderr",
     "output_type": "stream",
     "text": [
      "Epoch 7, global step 1544: 'val_dice' was not in top 1\n"
     ]
    },
    {
     "data": {
      "application/vnd.jupyter.widget-view+json": {
       "model_id": "",
       "version_major": 2,
       "version_minor": 0
      },
      "text/plain": [
       "Validation: 0it [00:00, ?it/s]"
      ]
     },
     "metadata": {},
     "output_type": "display_data"
    },
    {
     "name": "stdout",
     "output_type": "stream",
     "text": [
      "\n",
      "Epoch: 8\n"
     ]
    },
    {
     "name": "stderr",
     "output_type": "stream",
     "text": [
      "Epoch 8, global step 1737: 'val_dice' was not in top 1\n"
     ]
    },
    {
     "data": {
      "application/vnd.jupyter.widget-view+json": {
       "model_id": "",
       "version_major": 2,
       "version_minor": 0
      },
      "text/plain": [
       "Validation: 0it [00:00, ?it/s]"
      ]
     },
     "metadata": {},
     "output_type": "display_data"
    },
    {
     "name": "stdout",
     "output_type": "stream",
     "text": [
      "\n",
      "Epoch: 9\n"
     ]
    },
    {
     "name": "stderr",
     "output_type": "stream",
     "text": [
      "Metric val_loss improved by 0.003 >= min_delta = 0.0. New best score: 0.411\n",
      "Epoch 9, global step 1930: 'val_dice' was not in top 1\n"
     ]
    },
    {
     "data": {
      "application/vnd.jupyter.widget-view+json": {
       "model_id": "",
       "version_major": 2,
       "version_minor": 0
      },
      "text/plain": [
       "Validation: 0it [00:00, ?it/s]"
      ]
     },
     "metadata": {},
     "output_type": "display_data"
    },
    {
     "name": "stdout",
     "output_type": "stream",
     "text": [
      "\n",
      "Epoch: 10\n"
     ]
    },
    {
     "name": "stderr",
     "output_type": "stream",
     "text": [
      "Epoch 10, global step 2123: 'val_dice' was not in top 1\n"
     ]
    },
    {
     "data": {
      "application/vnd.jupyter.widget-view+json": {
       "model_id": "",
       "version_major": 2,
       "version_minor": 0
      },
      "text/plain": [
       "Validation: 0it [00:00, ?it/s]"
      ]
     },
     "metadata": {},
     "output_type": "display_data"
    },
    {
     "name": "stdout",
     "output_type": "stream",
     "text": [
      "\n",
      "Epoch: 11\n"
     ]
    },
    {
     "name": "stderr",
     "output_type": "stream",
     "text": [
      "Epoch 11, global step 2316: 'val_dice' was not in top 1\n"
     ]
    },
    {
     "data": {
      "application/vnd.jupyter.widget-view+json": {
       "model_id": "",
       "version_major": 2,
       "version_minor": 0
      },
      "text/plain": [
       "Validation: 0it [00:00, ?it/s]"
      ]
     },
     "metadata": {},
     "output_type": "display_data"
    },
    {
     "name": "stdout",
     "output_type": "stream",
     "text": [
      "\n",
      "Epoch: 12\n"
     ]
    },
    {
     "name": "stderr",
     "output_type": "stream",
     "text": [
      "Epoch 12, global step 2509: 'val_dice' was not in top 1\n",
      "`Trainer.fit` stopped: `max_epochs=13` reached.\n"
     ]
    }
   ],
   "source": [
    "pretrain_model_at_timestep_t_mask_plus_delta(0)"
   ]
  },
  {
   "cell_type": "code",
   "execution_count": 22,
   "id": "3a9c8a74-c7f8-4fa7-9281-96594ccb277c",
   "metadata": {
    "collapsed": true,
    "jupyter": {
     "outputs_hidden": true
    },
    "tags": []
   },
   "outputs": [
    {
     "name": "stderr",
     "output_type": "stream",
     "text": [
      "Using 16bit Automatic Mixed Precision (AMP)\n",
      "GPU available: True (cuda), used: True\n",
      "TPU available: False, using: 0 TPU cores\n",
      "IPU available: False, using: 0 IPUs\n",
      "HPU available: False, using: 0 HPUs\n",
      "LOCAL_RANK: 0 - CUDA_VISIBLE_DEVICES: [0]\n",
      "\n",
      "  | Name        | Type     | Params\n",
      "-----------------------------------------\n",
      "0 | model       | Unet     | 55.3 M\n",
      "1 | loss_module | DiceLoss | 0     \n",
      "-----------------------------------------\n",
      "55.3 M    Trainable params\n",
      "0         Non-trainable params\n",
      "55.3 M    Total params\n",
      "221.030   Total estimated model params size (MB)\n"
     ]
    },
    {
     "data": {
      "application/vnd.jupyter.widget-view+json": {
       "model_id": "",
       "version_major": 2,
       "version_minor": 0
      },
      "text/plain": [
       "Sanity Checking: 0it [00:00, ?it/s]"
      ]
     },
     "metadata": {},
     "output_type": "display_data"
    },
    {
     "name": "stdout",
     "output_type": "stream",
     "text": [
      "\n",
      "Epoch: 0\n"
     ]
    },
    {
     "data": {
      "application/vnd.jupyter.widget-view+json": {
       "model_id": "7ebbbc91e28a46a0b436b84b66d20594",
       "version_major": 2,
       "version_minor": 0
      },
      "text/plain": [
       "Training: 0it [00:00, ?it/s]"
      ]
     },
     "metadata": {},
     "output_type": "display_data"
    },
    {
     "data": {
      "application/vnd.jupyter.widget-view+json": {
       "model_id": "",
       "version_major": 2,
       "version_minor": 0
      },
      "text/plain": [
       "Validation: 0it [00:00, ?it/s]"
      ]
     },
     "metadata": {},
     "output_type": "display_data"
    },
    {
     "name": "stdout",
     "output_type": "stream",
     "text": [
      "\n",
      "Epoch: 0\n"
     ]
    },
    {
     "name": "stderr",
     "output_type": "stream",
     "text": [
      "Metric val_loss improved. New best score: 0.838\n",
      "Epoch 0, global step 193: 'val_dice' reached 0.23123 (best 0.23123), saving model to '/home/albert/ml/Contrails/notebooks/working_with_hdf_dataset/train_single_on_other_timesteps/pretrained_timesteps_resnest101_contrail_only_ashcolour/model_at_timestep_mask_plus_delta_1.ckpt' as top 1\n"
     ]
    },
    {
     "data": {
      "application/vnd.jupyter.widget-view+json": {
       "model_id": "",
       "version_major": 2,
       "version_minor": 0
      },
      "text/plain": [
       "Validation: 0it [00:00, ?it/s]"
      ]
     },
     "metadata": {},
     "output_type": "display_data"
    },
    {
     "name": "stdout",
     "output_type": "stream",
     "text": [
      "\n",
      "Epoch: 1\n"
     ]
    },
    {
     "name": "stderr",
     "output_type": "stream",
     "text": [
      "Metric val_loss improved by 0.017 >= min_delta = 0.0. New best score: 0.821\n",
      "Epoch 1, global step 386: 'val_dice' was not in top 1\n"
     ]
    },
    {
     "data": {
      "application/vnd.jupyter.widget-view+json": {
       "model_id": "",
       "version_major": 2,
       "version_minor": 0
      },
      "text/plain": [
       "Validation: 0it [00:00, ?it/s]"
      ]
     },
     "metadata": {},
     "output_type": "display_data"
    },
    {
     "name": "stdout",
     "output_type": "stream",
     "text": [
      "\n",
      "Epoch: 2\n"
     ]
    },
    {
     "name": "stderr",
     "output_type": "stream",
     "text": [
      "Metric val_loss improved by 0.049 >= min_delta = 0.0. New best score: 0.772\n",
      "Epoch 2, global step 579: 'val_dice' reached 0.24763 (best 0.24763), saving model to '/home/albert/ml/Contrails/notebooks/working_with_hdf_dataset/train_single_on_other_timesteps/pretrained_timesteps_resnest101_contrail_only_ashcolour/model_at_timestep_mask_plus_delta_1.ckpt' as top 1\n"
     ]
    },
    {
     "data": {
      "application/vnd.jupyter.widget-view+json": {
       "model_id": "",
       "version_major": 2,
       "version_minor": 0
      },
      "text/plain": [
       "Validation: 0it [00:00, ?it/s]"
      ]
     },
     "metadata": {},
     "output_type": "display_data"
    },
    {
     "name": "stdout",
     "output_type": "stream",
     "text": [
      "\n",
      "Epoch: 3\n"
     ]
    },
    {
     "name": "stderr",
     "output_type": "stream",
     "text": [
      "Epoch 3, global step 772: 'val_dice' was not in top 1\n"
     ]
    },
    {
     "data": {
      "application/vnd.jupyter.widget-view+json": {
       "model_id": "",
       "version_major": 2,
       "version_minor": 0
      },
      "text/plain": [
       "Validation: 0it [00:00, ?it/s]"
      ]
     },
     "metadata": {},
     "output_type": "display_data"
    },
    {
     "name": "stdout",
     "output_type": "stream",
     "text": [
      "\n",
      "Epoch: 4\n"
     ]
    },
    {
     "name": "stderr",
     "output_type": "stream",
     "text": [
      "Epoch 4, global step 965: 'val_dice' was not in top 1\n"
     ]
    },
    {
     "data": {
      "application/vnd.jupyter.widget-view+json": {
       "model_id": "",
       "version_major": 2,
       "version_minor": 0
      },
      "text/plain": [
       "Validation: 0it [00:00, ?it/s]"
      ]
     },
     "metadata": {},
     "output_type": "display_data"
    },
    {
     "name": "stdout",
     "output_type": "stream",
     "text": [
      "\n",
      "Epoch: 5\n"
     ]
    },
    {
     "name": "stderr",
     "output_type": "stream",
     "text": [
      "Metric val_loss improved by 0.024 >= min_delta = 0.0. New best score: 0.747\n",
      "Epoch 5, global step 1158: 'val_dice' reached 0.26446 (best 0.26446), saving model to '/home/albert/ml/Contrails/notebooks/working_with_hdf_dataset/train_single_on_other_timesteps/pretrained_timesteps_resnest101_contrail_only_ashcolour/model_at_timestep_mask_plus_delta_1.ckpt' as top 1\n"
     ]
    },
    {
     "data": {
      "application/vnd.jupyter.widget-view+json": {
       "model_id": "",
       "version_major": 2,
       "version_minor": 0
      },
      "text/plain": [
       "Validation: 0it [00:00, ?it/s]"
      ]
     },
     "metadata": {},
     "output_type": "display_data"
    },
    {
     "name": "stdout",
     "output_type": "stream",
     "text": [
      "\n",
      "Epoch: 6\n"
     ]
    },
    {
     "name": "stderr",
     "output_type": "stream",
     "text": [
      "Epoch 6, global step 1351: 'val_dice' was not in top 1\n"
     ]
    },
    {
     "data": {
      "application/vnd.jupyter.widget-view+json": {
       "model_id": "",
       "version_major": 2,
       "version_minor": 0
      },
      "text/plain": [
       "Validation: 0it [00:00, ?it/s]"
      ]
     },
     "metadata": {},
     "output_type": "display_data"
    },
    {
     "name": "stdout",
     "output_type": "stream",
     "text": [
      "\n",
      "Epoch: 7\n"
     ]
    },
    {
     "name": "stderr",
     "output_type": "stream",
     "text": [
      "Epoch 7, global step 1544: 'val_dice' was not in top 1\n"
     ]
    },
    {
     "data": {
      "application/vnd.jupyter.widget-view+json": {
       "model_id": "",
       "version_major": 2,
       "version_minor": 0
      },
      "text/plain": [
       "Validation: 0it [00:00, ?it/s]"
      ]
     },
     "metadata": {},
     "output_type": "display_data"
    },
    {
     "name": "stdout",
     "output_type": "stream",
     "text": [
      "\n",
      "Epoch: 8\n"
     ]
    },
    {
     "name": "stderr",
     "output_type": "stream",
     "text": [
      "Epoch 8, global step 1737: 'val_dice' was not in top 1\n"
     ]
    },
    {
     "data": {
      "application/vnd.jupyter.widget-view+json": {
       "model_id": "",
       "version_major": 2,
       "version_minor": 0
      },
      "text/plain": [
       "Validation: 0it [00:00, ?it/s]"
      ]
     },
     "metadata": {},
     "output_type": "display_data"
    },
    {
     "name": "stdout",
     "output_type": "stream",
     "text": [
      "\n",
      "Epoch: 9\n"
     ]
    },
    {
     "name": "stderr",
     "output_type": "stream",
     "text": [
      "Epoch 9, global step 1930: 'val_dice' was not in top 1\n"
     ]
    },
    {
     "data": {
      "application/vnd.jupyter.widget-view+json": {
       "model_id": "",
       "version_major": 2,
       "version_minor": 0
      },
      "text/plain": [
       "Validation: 0it [00:00, ?it/s]"
      ]
     },
     "metadata": {},
     "output_type": "display_data"
    },
    {
     "name": "stdout",
     "output_type": "stream",
     "text": [
      "\n",
      "Epoch: 10\n"
     ]
    },
    {
     "name": "stderr",
     "output_type": "stream",
     "text": [
      "Epoch 10, global step 2123: 'val_dice' was not in top 1\n"
     ]
    },
    {
     "data": {
      "application/vnd.jupyter.widget-view+json": {
       "model_id": "",
       "version_major": 2,
       "version_minor": 0
      },
      "text/plain": [
       "Validation: 0it [00:00, ?it/s]"
      ]
     },
     "metadata": {},
     "output_type": "display_data"
    },
    {
     "name": "stdout",
     "output_type": "stream",
     "text": [
      "\n",
      "Epoch: 11\n"
     ]
    },
    {
     "name": "stderr",
     "output_type": "stream",
     "text": [
      "Epoch 11, global step 2316: 'val_dice' was not in top 1\n"
     ]
    },
    {
     "data": {
      "application/vnd.jupyter.widget-view+json": {
       "model_id": "",
       "version_major": 2,
       "version_minor": 0
      },
      "text/plain": [
       "Validation: 0it [00:00, ?it/s]"
      ]
     },
     "metadata": {},
     "output_type": "display_data"
    },
    {
     "name": "stdout",
     "output_type": "stream",
     "text": [
      "\n",
      "Epoch: 12\n"
     ]
    },
    {
     "name": "stderr",
     "output_type": "stream",
     "text": [
      "Epoch 12, global step 2509: 'val_dice' was not in top 1\n",
      "`Trainer.fit` stopped: `max_epochs=13` reached.\n"
     ]
    }
   ],
   "source": [
    "pretrain_model_at_timestep_t_mask_plus_delta(1)"
   ]
  },
  {
   "cell_type": "code",
   "execution_count": 23,
   "id": "a6743722-8ac2-44eb-8d78-20e8a0547ff0",
   "metadata": {
    "collapsed": true,
    "jupyter": {
     "outputs_hidden": true
    },
    "tags": []
   },
   "outputs": [
    {
     "name": "stderr",
     "output_type": "stream",
     "text": [
      "Using 16bit Automatic Mixed Precision (AMP)\n",
      "GPU available: True (cuda), used: True\n",
      "TPU available: False, using: 0 TPU cores\n",
      "IPU available: False, using: 0 IPUs\n",
      "HPU available: False, using: 0 HPUs\n",
      "LOCAL_RANK: 0 - CUDA_VISIBLE_DEVICES: [0]\n",
      "\n",
      "  | Name        | Type     | Params\n",
      "-----------------------------------------\n",
      "0 | model       | Unet     | 55.3 M\n",
      "1 | loss_module | DiceLoss | 0     \n",
      "-----------------------------------------\n",
      "55.3 M    Trainable params\n",
      "0         Non-trainable params\n",
      "55.3 M    Total params\n",
      "221.030   Total estimated model params size (MB)\n"
     ]
    },
    {
     "data": {
      "application/vnd.jupyter.widget-view+json": {
       "model_id": "",
       "version_major": 2,
       "version_minor": 0
      },
      "text/plain": [
       "Sanity Checking: 0it [00:00, ?it/s]"
      ]
     },
     "metadata": {},
     "output_type": "display_data"
    },
    {
     "name": "stdout",
     "output_type": "stream",
     "text": [
      "\n",
      "Epoch: 0\n"
     ]
    },
    {
     "data": {
      "application/vnd.jupyter.widget-view+json": {
       "model_id": "5952535675684279ba446e2173456d4a",
       "version_major": 2,
       "version_minor": 0
      },
      "text/plain": [
       "Training: 0it [00:00, ?it/s]"
      ]
     },
     "metadata": {},
     "output_type": "display_data"
    },
    {
     "data": {
      "application/vnd.jupyter.widget-view+json": {
       "model_id": "",
       "version_major": 2,
       "version_minor": 0
      },
      "text/plain": [
       "Validation: 0it [00:00, ?it/s]"
      ]
     },
     "metadata": {},
     "output_type": "display_data"
    },
    {
     "name": "stdout",
     "output_type": "stream",
     "text": [
      "\n",
      "Epoch: 0\n"
     ]
    },
    {
     "name": "stderr",
     "output_type": "stream",
     "text": [
      "Metric val_loss improved. New best score: 0.909\n",
      "Epoch 0, global step 193: 'val_dice' reached 0.13619 (best 0.13619), saving model to '/home/albert/ml/Contrails/notebooks/working_with_hdf_dataset/train_single_on_other_timesteps/pretrained_timesteps_resnest101_contrail_only_ashcolour/model_at_timestep_mask_plus_delta_2.ckpt' as top 1\n"
     ]
    },
    {
     "data": {
      "application/vnd.jupyter.widget-view+json": {
       "model_id": "",
       "version_major": 2,
       "version_minor": 0
      },
      "text/plain": [
       "Validation: 0it [00:00, ?it/s]"
      ]
     },
     "metadata": {},
     "output_type": "display_data"
    },
    {
     "name": "stdout",
     "output_type": "stream",
     "text": [
      "\n",
      "Epoch: 1\n"
     ]
    },
    {
     "name": "stderr",
     "output_type": "stream",
     "text": [
      "Metric val_loss improved by 0.028 >= min_delta = 0.0. New best score: 0.881\n",
      "Epoch 1, global step 386: 'val_dice' reached 0.13847 (best 0.13847), saving model to '/home/albert/ml/Contrails/notebooks/working_with_hdf_dataset/train_single_on_other_timesteps/pretrained_timesteps_resnest101_contrail_only_ashcolour/model_at_timestep_mask_plus_delta_2.ckpt' as top 1\n"
     ]
    },
    {
     "data": {
      "application/vnd.jupyter.widget-view+json": {
       "model_id": "",
       "version_major": 2,
       "version_minor": 0
      },
      "text/plain": [
       "Validation: 0it [00:00, ?it/s]"
      ]
     },
     "metadata": {},
     "output_type": "display_data"
    },
    {
     "name": "stdout",
     "output_type": "stream",
     "text": [
      "\n",
      "Epoch: 2\n"
     ]
    },
    {
     "name": "stderr",
     "output_type": "stream",
     "text": [
      "Metric val_loss improved by 0.016 >= min_delta = 0.0. New best score: 0.865\n",
      "Epoch 2, global step 579: 'val_dice' reached 0.14580 (best 0.14580), saving model to '/home/albert/ml/Contrails/notebooks/working_with_hdf_dataset/train_single_on_other_timesteps/pretrained_timesteps_resnest101_contrail_only_ashcolour/model_at_timestep_mask_plus_delta_2.ckpt' as top 1\n"
     ]
    },
    {
     "data": {
      "application/vnd.jupyter.widget-view+json": {
       "model_id": "",
       "version_major": 2,
       "version_minor": 0
      },
      "text/plain": [
       "Validation: 0it [00:00, ?it/s]"
      ]
     },
     "metadata": {},
     "output_type": "display_data"
    },
    {
     "name": "stdout",
     "output_type": "stream",
     "text": [
      "\n",
      "Epoch: 3\n"
     ]
    },
    {
     "name": "stderr",
     "output_type": "stream",
     "text": [
      "Metric val_loss improved by 0.010 >= min_delta = 0.0. New best score: 0.855\n",
      "Epoch 3, global step 772: 'val_dice' reached 0.15912 (best 0.15912), saving model to '/home/albert/ml/Contrails/notebooks/working_with_hdf_dataset/train_single_on_other_timesteps/pretrained_timesteps_resnest101_contrail_only_ashcolour/model_at_timestep_mask_plus_delta_2.ckpt' as top 1\n"
     ]
    },
    {
     "data": {
      "application/vnd.jupyter.widget-view+json": {
       "model_id": "",
       "version_major": 2,
       "version_minor": 0
      },
      "text/plain": [
       "Validation: 0it [00:00, ?it/s]"
      ]
     },
     "metadata": {},
     "output_type": "display_data"
    },
    {
     "name": "stdout",
     "output_type": "stream",
     "text": [
      "\n",
      "Epoch: 4\n"
     ]
    },
    {
     "name": "stderr",
     "output_type": "stream",
     "text": [
      "Epoch 4, global step 965: 'val_dice' was not in top 1\n"
     ]
    },
    {
     "data": {
      "application/vnd.jupyter.widget-view+json": {
       "model_id": "",
       "version_major": 2,
       "version_minor": 0
      },
      "text/plain": [
       "Validation: 0it [00:00, ?it/s]"
      ]
     },
     "metadata": {},
     "output_type": "display_data"
    },
    {
     "name": "stdout",
     "output_type": "stream",
     "text": [
      "\n",
      "Epoch: 5\n"
     ]
    },
    {
     "name": "stderr",
     "output_type": "stream",
     "text": [
      "Epoch 5, global step 1158: 'val_dice' was not in top 1\n"
     ]
    },
    {
     "data": {
      "application/vnd.jupyter.widget-view+json": {
       "model_id": "",
       "version_major": 2,
       "version_minor": 0
      },
      "text/plain": [
       "Validation: 0it [00:00, ?it/s]"
      ]
     },
     "metadata": {},
     "output_type": "display_data"
    },
    {
     "name": "stdout",
     "output_type": "stream",
     "text": [
      "\n",
      "Epoch: 6\n"
     ]
    },
    {
     "name": "stderr",
     "output_type": "stream",
     "text": [
      "Epoch 6, global step 1351: 'val_dice' was not in top 1\n"
     ]
    },
    {
     "data": {
      "application/vnd.jupyter.widget-view+json": {
       "model_id": "",
       "version_major": 2,
       "version_minor": 0
      },
      "text/plain": [
       "Validation: 0it [00:00, ?it/s]"
      ]
     },
     "metadata": {},
     "output_type": "display_data"
    },
    {
     "name": "stdout",
     "output_type": "stream",
     "text": [
      "\n",
      "Epoch: 7\n"
     ]
    },
    {
     "name": "stderr",
     "output_type": "stream",
     "text": [
      "Metric val_loss improved by 0.009 >= min_delta = 0.0. New best score: 0.847\n",
      "Epoch 7, global step 1544: 'val_dice' reached 0.16405 (best 0.16405), saving model to '/home/albert/ml/Contrails/notebooks/working_with_hdf_dataset/train_single_on_other_timesteps/pretrained_timesteps_resnest101_contrail_only_ashcolour/model_at_timestep_mask_plus_delta_2.ckpt' as top 1\n"
     ]
    },
    {
     "data": {
      "application/vnd.jupyter.widget-view+json": {
       "model_id": "",
       "version_major": 2,
       "version_minor": 0
      },
      "text/plain": [
       "Validation: 0it [00:00, ?it/s]"
      ]
     },
     "metadata": {},
     "output_type": "display_data"
    },
    {
     "name": "stdout",
     "output_type": "stream",
     "text": [
      "\n",
      "Epoch: 8\n"
     ]
    },
    {
     "name": "stderr",
     "output_type": "stream",
     "text": [
      "Epoch 8, global step 1737: 'val_dice' was not in top 1\n"
     ]
    },
    {
     "data": {
      "application/vnd.jupyter.widget-view+json": {
       "model_id": "",
       "version_major": 2,
       "version_minor": 0
      },
      "text/plain": [
       "Validation: 0it [00:00, ?it/s]"
      ]
     },
     "metadata": {},
     "output_type": "display_data"
    },
    {
     "name": "stdout",
     "output_type": "stream",
     "text": [
      "\n",
      "Epoch: 9\n"
     ]
    },
    {
     "name": "stderr",
     "output_type": "stream",
     "text": [
      "Epoch 9, global step 1930: 'val_dice' was not in top 1\n"
     ]
    },
    {
     "data": {
      "application/vnd.jupyter.widget-view+json": {
       "model_id": "",
       "version_major": 2,
       "version_minor": 0
      },
      "text/plain": [
       "Validation: 0it [00:00, ?it/s]"
      ]
     },
     "metadata": {},
     "output_type": "display_data"
    },
    {
     "name": "stdout",
     "output_type": "stream",
     "text": [
      "\n",
      "Epoch: 10\n"
     ]
    },
    {
     "name": "stderr",
     "output_type": "stream",
     "text": [
      "Epoch 10, global step 2123: 'val_dice' was not in top 1\n"
     ]
    },
    {
     "data": {
      "application/vnd.jupyter.widget-view+json": {
       "model_id": "",
       "version_major": 2,
       "version_minor": 0
      },
      "text/plain": [
       "Validation: 0it [00:00, ?it/s]"
      ]
     },
     "metadata": {},
     "output_type": "display_data"
    },
    {
     "name": "stdout",
     "output_type": "stream",
     "text": [
      "\n",
      "Epoch: 11\n"
     ]
    },
    {
     "name": "stderr",
     "output_type": "stream",
     "text": [
      "Epoch 11, global step 2316: 'val_dice' was not in top 1\n"
     ]
    },
    {
     "data": {
      "application/vnd.jupyter.widget-view+json": {
       "model_id": "",
       "version_major": 2,
       "version_minor": 0
      },
      "text/plain": [
       "Validation: 0it [00:00, ?it/s]"
      ]
     },
     "metadata": {},
     "output_type": "display_data"
    },
    {
     "name": "stdout",
     "output_type": "stream",
     "text": [
      "\n",
      "Epoch: 12\n"
     ]
    },
    {
     "name": "stderr",
     "output_type": "stream",
     "text": [
      "Epoch 12, global step 2509: 'val_dice' was not in top 1\n",
      "`Trainer.fit` stopped: `max_epochs=13` reached.\n"
     ]
    }
   ],
   "source": [
    "pretrain_model_at_timestep_t_mask_plus_delta(2)"
   ]
  },
  {
   "cell_type": "code",
   "execution_count": 24,
   "id": "25cbaa38-838c-4949-bc3f-75da4bc83a0b",
   "metadata": {
    "collapsed": true,
    "jupyter": {
     "outputs_hidden": true
    },
    "tags": []
   },
   "outputs": [
    {
     "name": "stderr",
     "output_type": "stream",
     "text": [
      "Using 16bit Automatic Mixed Precision (AMP)\n",
      "GPU available: True (cuda), used: True\n",
      "TPU available: False, using: 0 TPU cores\n",
      "IPU available: False, using: 0 IPUs\n",
      "HPU available: False, using: 0 HPUs\n",
      "LOCAL_RANK: 0 - CUDA_VISIBLE_DEVICES: [0]\n",
      "\n",
      "  | Name        | Type     | Params\n",
      "-----------------------------------------\n",
      "0 | model       | Unet     | 55.3 M\n",
      "1 | loss_module | DiceLoss | 0     \n",
      "-----------------------------------------\n",
      "55.3 M    Trainable params\n",
      "0         Non-trainable params\n",
      "55.3 M    Total params\n",
      "221.030   Total estimated model params size (MB)\n"
     ]
    },
    {
     "data": {
      "application/vnd.jupyter.widget-view+json": {
       "model_id": "",
       "version_major": 2,
       "version_minor": 0
      },
      "text/plain": [
       "Sanity Checking: 0it [00:00, ?it/s]"
      ]
     },
     "metadata": {},
     "output_type": "display_data"
    },
    {
     "name": "stdout",
     "output_type": "stream",
     "text": [
      "\n",
      "Epoch: 0\n"
     ]
    },
    {
     "data": {
      "application/vnd.jupyter.widget-view+json": {
       "model_id": "ce3816765cf441eeafe620b0ae8e6a5e",
       "version_major": 2,
       "version_minor": 0
      },
      "text/plain": [
       "Training: 0it [00:00, ?it/s]"
      ]
     },
     "metadata": {},
     "output_type": "display_data"
    },
    {
     "data": {
      "application/vnd.jupyter.widget-view+json": {
       "model_id": "",
       "version_major": 2,
       "version_minor": 0
      },
      "text/plain": [
       "Validation: 0it [00:00, ?it/s]"
      ]
     },
     "metadata": {},
     "output_type": "display_data"
    },
    {
     "name": "stdout",
     "output_type": "stream",
     "text": [
      "\n",
      "Epoch: 0\n"
     ]
    },
    {
     "name": "stderr",
     "output_type": "stream",
     "text": [
      "Metric val_loss improved. New best score: 0.932\n",
      "Epoch 0, global step 193: 'val_dice' reached 0.09353 (best 0.09353), saving model to '/home/albert/ml/Contrails/notebooks/working_with_hdf_dataset/train_single_on_other_timesteps/pretrained_timesteps_resnest101_contrail_only_ashcolour/model_at_timestep_mask_plus_delta_3.ckpt' as top 1\n"
     ]
    },
    {
     "data": {
      "application/vnd.jupyter.widget-view+json": {
       "model_id": "",
       "version_major": 2,
       "version_minor": 0
      },
      "text/plain": [
       "Validation: 0it [00:00, ?it/s]"
      ]
     },
     "metadata": {},
     "output_type": "display_data"
    },
    {
     "name": "stdout",
     "output_type": "stream",
     "text": [
      "\n",
      "Epoch: 1\n"
     ]
    },
    {
     "name": "stderr",
     "output_type": "stream",
     "text": [
      "Metric val_loss improved by 0.014 >= min_delta = 0.0. New best score: 0.918\n",
      "Epoch 1, global step 386: 'val_dice' reached 0.10569 (best 0.10569), saving model to '/home/albert/ml/Contrails/notebooks/working_with_hdf_dataset/train_single_on_other_timesteps/pretrained_timesteps_resnest101_contrail_only_ashcolour/model_at_timestep_mask_plus_delta_3.ckpt' as top 1\n"
     ]
    },
    {
     "data": {
      "application/vnd.jupyter.widget-view+json": {
       "model_id": "",
       "version_major": 2,
       "version_minor": 0
      },
      "text/plain": [
       "Validation: 0it [00:00, ?it/s]"
      ]
     },
     "metadata": {},
     "output_type": "display_data"
    },
    {
     "name": "stdout",
     "output_type": "stream",
     "text": [
      "\n",
      "Epoch: 2\n"
     ]
    },
    {
     "name": "stderr",
     "output_type": "stream",
     "text": [
      "Epoch 2, global step 579: 'val_dice' was not in top 1\n"
     ]
    },
    {
     "data": {
      "application/vnd.jupyter.widget-view+json": {
       "model_id": "",
       "version_major": 2,
       "version_minor": 0
      },
      "text/plain": [
       "Validation: 0it [00:00, ?it/s]"
      ]
     },
     "metadata": {},
     "output_type": "display_data"
    },
    {
     "name": "stdout",
     "output_type": "stream",
     "text": [
      "\n",
      "Epoch: 3\n"
     ]
    },
    {
     "name": "stderr",
     "output_type": "stream",
     "text": [
      "Metric val_loss improved by 0.010 >= min_delta = 0.0. New best score: 0.908\n",
      "Epoch 3, global step 772: 'val_dice' reached 0.11019 (best 0.11019), saving model to '/home/albert/ml/Contrails/notebooks/working_with_hdf_dataset/train_single_on_other_timesteps/pretrained_timesteps_resnest101_contrail_only_ashcolour/model_at_timestep_mask_plus_delta_3.ckpt' as top 1\n"
     ]
    },
    {
     "data": {
      "application/vnd.jupyter.widget-view+json": {
       "model_id": "",
       "version_major": 2,
       "version_minor": 0
      },
      "text/plain": [
       "Validation: 0it [00:00, ?it/s]"
      ]
     },
     "metadata": {},
     "output_type": "display_data"
    },
    {
     "name": "stdout",
     "output_type": "stream",
     "text": [
      "\n",
      "Epoch: 4\n"
     ]
    },
    {
     "name": "stderr",
     "output_type": "stream",
     "text": [
      "Metric val_loss improved by 0.006 >= min_delta = 0.0. New best score: 0.902\n",
      "Epoch 4, global step 965: 'val_dice' reached 0.11609 (best 0.11609), saving model to '/home/albert/ml/Contrails/notebooks/working_with_hdf_dataset/train_single_on_other_timesteps/pretrained_timesteps_resnest101_contrail_only_ashcolour/model_at_timestep_mask_plus_delta_3.ckpt' as top 1\n"
     ]
    },
    {
     "data": {
      "application/vnd.jupyter.widget-view+json": {
       "model_id": "",
       "version_major": 2,
       "version_minor": 0
      },
      "text/plain": [
       "Validation: 0it [00:00, ?it/s]"
      ]
     },
     "metadata": {},
     "output_type": "display_data"
    },
    {
     "name": "stdout",
     "output_type": "stream",
     "text": [
      "\n",
      "Epoch: 5\n"
     ]
    },
    {
     "name": "stderr",
     "output_type": "stream",
     "text": [
      "Epoch 5, global step 1158: 'val_dice' was not in top 1\n"
     ]
    },
    {
     "data": {
      "application/vnd.jupyter.widget-view+json": {
       "model_id": "",
       "version_major": 2,
       "version_minor": 0
      },
      "text/plain": [
       "Validation: 0it [00:00, ?it/s]"
      ]
     },
     "metadata": {},
     "output_type": "display_data"
    },
    {
     "name": "stdout",
     "output_type": "stream",
     "text": [
      "\n",
      "Epoch: 6\n"
     ]
    },
    {
     "name": "stderr",
     "output_type": "stream",
     "text": [
      "Epoch 6, global step 1351: 'val_dice' was not in top 1\n"
     ]
    },
    {
     "data": {
      "application/vnd.jupyter.widget-view+json": {
       "model_id": "",
       "version_major": 2,
       "version_minor": 0
      },
      "text/plain": [
       "Validation: 0it [00:00, ?it/s]"
      ]
     },
     "metadata": {},
     "output_type": "display_data"
    },
    {
     "name": "stdout",
     "output_type": "stream",
     "text": [
      "\n",
      "Epoch: 7\n"
     ]
    },
    {
     "name": "stderr",
     "output_type": "stream",
     "text": [
      "Metric val_loss improved by 0.004 >= min_delta = 0.0. New best score: 0.898\n",
      "Epoch 7, global step 1544: 'val_dice' was not in top 1\n",
      "IOPub message rate exceeded.\n",
      "The Jupyter server will temporarily stop sending output\n",
      "to the client in order to avoid crashing it.\n",
      "To change this limit, set the config variable\n",
      "`--ServerApp.iopub_msg_rate_limit`.\n",
      "\n",
      "Current values:\n",
      "ServerApp.iopub_msg_rate_limit=1000.0 (msgs/sec)\n",
      "ServerApp.rate_limit_window=3.0 (secs)\n",
      "\n"
     ]
    },
    {
     "data": {
      "application/vnd.jupyter.widget-view+json": {
       "model_id": "",
       "version_major": 2,
       "version_minor": 0
      },
      "text/plain": [
       "Validation: 0it [00:00, ?it/s]"
      ]
     },
     "metadata": {},
     "output_type": "display_data"
    },
    {
     "name": "stdout",
     "output_type": "stream",
     "text": [
      "\n",
      "Epoch: 12\n"
     ]
    },
    {
     "name": "stderr",
     "output_type": "stream",
     "text": [
      "Epoch 12, global step 2509: 'val_dice' was not in top 1\n",
      "`Trainer.fit` stopped: `max_epochs=13` reached.\n"
     ]
    }
   ],
   "source": [
    "pretrain_model_at_timestep_t_mask_plus_delta(3)"
   ]
  },
  {
   "cell_type": "markdown",
   "id": "2956db41-3bc1-409f-903c-ef7b981f042b",
   "metadata": {},
   "source": [
    "### Results"
   ]
  },
  {
   "cell_type": "code",
   "execution_count": 6,
   "id": "19de148c-99f0-4e6c-8c7a-09b46173367b",
   "metadata": {
    "tags": []
   },
   "outputs": [
    {
     "name": "stdout",
     "output_type": "stream",
     "text": [
      "delta_t =-1 max: 0.275\n",
      "delta_t =0 max: 0.602\n",
      "delta_t =1 max: 0.264\n",
      "delta_t =2 max: 0.164\n",
      "delta_t =3 max: 0.116\n"
     ]
    },
    {
     "data": {
      "image/png": "[encoded data removed]",
      "text/plain": [
       "<Figure size 640x480 with 1 Axes>"
      ]
     },
     "metadata": {},
     "output_type": "display_data"
    }
   ],
   "source": [
    "import pandas as pd\n",
    "import matplotlib.pyplot as plt\n",
    "for delta in [-1,0,1,2,3]:\n",
    "    label = 'delta_t ='+str(delta)\n",
    "    metrics = pd.read_csv(\"./pretrained_timesteps_resnest101_contrail_only_ashcolour/model_at_timestep_mask_plus_delta_\"+str(delta)+\"/version_0/metrics.csv\")\n",
    "    metrics = metrics.dropna(subset = ['val_dice']).set_index(\"epoch\")\n",
    "    plt.plot(metrics['val_dice'], label=label)\n",
    "    \n",
    "    maximum = metrics.dropna(subset = ['val_dice']).max()[\"val_dice\"]#[[\"val_dice\",\"epoch\"]]\n",
    "    print(label + \" max: {:.3f}\".format( maximum))\n",
    "\n",
    "plt.legend()\n",
    "plt.show()"
   ]
  }
 ],
 "metadata": {
  "kernelspec": {
   "display_name": "Python 3.11.3 (pytorch_gpu)",
   "language": "python",
   "name": "pytorch_gpu"
  },
  "language_info": {
   "codemirror_mode": {
    "name": "ipython",
    "version": 3
   },
   "file_extension": ".py",
   "mimetype": "text/x-python",
   "name": "python",
   "nbconvert_exporter": "python",
   "pygments_lexer": "ipython3",
   "version": "3.11.4"
  }
 },
 "nbformat": 4,
 "nbformat_minor": 5
}
